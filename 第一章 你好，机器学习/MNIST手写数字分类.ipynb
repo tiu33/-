{
 "cells": [
  {
   "cell_type": "markdown",
   "id": "063a0286",
   "metadata": {},
   "source": [
    "# 第一个机器学习程序"
   ]
  },
  {
   "cell_type": "markdown",
   "id": "5935c23b",
   "metadata": {},
   "source": [
    "从某种程度上来说，这或许也能称的上是一个\"Hello world!\"，你好世界，我们要开始了！"
   ]
  },
  {
   "cell_type": "markdown",
   "id": "420213b8",
   "metadata": {},
   "source": [
    "## 首先我们需要加载数据集，这是一个手写数字分类的程序"
   ]
  },
  {
   "cell_type": "code",
   "execution_count": 1,
   "id": "8ec49b8e",
   "metadata": {},
   "outputs": [],
   "source": [
    "import numpy as np  # 导入NumPy库\n",
    "import pandas as pd  # 导入Pandas库\n",
    "#import keras  # 从Keras中导入MNIST数据集  这里报废，只能手动下载\n",
    "mnist=np.load('./mnist.npz')\n",
    "x_train_image=mnist['x_train']\n",
    "y_train_label=mnist['y_train']\n",
    "x_test_image=mnist['x_test']\n",
    "y_test_label=mnist['y_test']"
   ]
  },
  {
   "cell_type": "code",
   "execution_count": 2,
   "id": "7efd3d72",
   "metadata": {},
   "outputs": [
    {
     "name": "stdout",
     "output_type": "stream",
     "text": [
      "数据集张量形状： (60000, 28, 28)\n",
      "第一个数据样本：\n",
      " [[  0   0   0   0   0   0   0   0   0   0   0   0   0   0   0   0   0   0\n",
      "    0   0   0   0   0   0   0   0   0   0]\n",
      " [  0   0   0   0   0   0   0   0   0   0   0   0   0   0   0   0   0   0\n",
      "    0   0   0   0   0   0   0   0   0   0]\n",
      " [  0   0   0   0   0   0   0   0   0   0   0   0   0   0   0   0   0   0\n",
      "    0   0   0   0   0   0   0   0   0   0]\n",
      " [  0   0   0   0   0   0   0   0   0   0   0   0   0   0   0   0   0   0\n",
      "    0   0   0   0   0   0   0   0   0   0]\n",
      " [  0   0   0   0   0   0   0   0   0   0   0   0   0   0   0   0   0   0\n",
      "    0   0   0   0   0   0   0   0   0   0]\n",
      " [  0   0   0   0   0   0   0   0   0   0   0   0   3  18  18  18 126 136\n",
      "  175  26 166 255 247 127   0   0   0   0]\n",
      " [  0   0   0   0   0   0   0   0  30  36  94 154 170 253 253 253 253 253\n",
      "  225 172 253 242 195  64   0   0   0   0]\n",
      " [  0   0   0   0   0   0   0  49 238 253 253 253 253 253 253 253 253 251\n",
      "   93  82  82  56  39   0   0   0   0   0]\n",
      " [  0   0   0   0   0   0   0  18 219 253 253 253 253 253 198 182 247 241\n",
      "    0   0   0   0   0   0   0   0   0   0]\n",
      " [  0   0   0   0   0   0   0   0  80 156 107 253 253 205  11   0  43 154\n",
      "    0   0   0   0   0   0   0   0   0   0]\n",
      " [  0   0   0   0   0   0   0   0   0  14   1 154 253  90   0   0   0   0\n",
      "    0   0   0   0   0   0   0   0   0   0]\n",
      " [  0   0   0   0   0   0   0   0   0   0   0 139 253 190   2   0   0   0\n",
      "    0   0   0   0   0   0   0   0   0   0]\n",
      " [  0   0   0   0   0   0   0   0   0   0   0  11 190 253  70   0   0   0\n",
      "    0   0   0   0   0   0   0   0   0   0]\n",
      " [  0   0   0   0   0   0   0   0   0   0   0   0  35 241 225 160 108   1\n",
      "    0   0   0   0   0   0   0   0   0   0]\n",
      " [  0   0   0   0   0   0   0   0   0   0   0   0   0  81 240 253 253 119\n",
      "   25   0   0   0   0   0   0   0   0   0]\n",
      " [  0   0   0   0   0   0   0   0   0   0   0   0   0   0  45 186 253 253\n",
      "  150  27   0   0   0   0   0   0   0   0]\n",
      " [  0   0   0   0   0   0   0   0   0   0   0   0   0   0   0  16  93 252\n",
      "  253 187   0   0   0   0   0   0   0   0]\n",
      " [  0   0   0   0   0   0   0   0   0   0   0   0   0   0   0   0   0 249\n",
      "  253 249  64   0   0   0   0   0   0   0]\n",
      " [  0   0   0   0   0   0   0   0   0   0   0   0   0   0  46 130 183 253\n",
      "  253 207   2   0   0   0   0   0   0   0]\n",
      " [  0   0   0   0   0   0   0   0   0   0   0   0  39 148 229 253 253 253\n",
      "  250 182   0   0   0   0   0   0   0   0]\n",
      " [  0   0   0   0   0   0   0   0   0   0  24 114 221 253 253 253 253 201\n",
      "   78   0   0   0   0   0   0   0   0   0]\n",
      " [  0   0   0   0   0   0   0   0  23  66 213 253 253 253 253 198  81   2\n",
      "    0   0   0   0   0   0   0   0   0   0]\n",
      " [  0   0   0   0   0   0  18 171 219 253 253 253 253 195  80   9   0   0\n",
      "    0   0   0   0   0   0   0   0   0   0]\n",
      " [  0   0   0   0  55 172 226 253 253 253 253 244 133  11   0   0   0   0\n",
      "    0   0   0   0   0   0   0   0   0   0]\n",
      " [  0   0   0   0 136 253 253 253 212 135 132  16   0   0   0   0   0   0\n",
      "    0   0   0   0   0   0   0   0   0   0]\n",
      " [  0   0   0   0   0   0   0   0   0   0   0   0   0   0   0   0   0   0\n",
      "    0   0   0   0   0   0   0   0   0   0]\n",
      " [  0   0   0   0   0   0   0   0   0   0   0   0   0   0   0   0   0   0\n",
      "    0   0   0   0   0   0   0   0   0   0]\n",
      " [  0   0   0   0   0   0   0   0   0   0   0   0   0   0   0   0   0   0\n",
      "    0   0   0   0   0   0   0   0   0   0]]\n"
     ]
    }
   ],
   "source": [
    "print(\"数据集张量形状：\",x_train_image.shape)  # 显示张量形状\n",
    "print(\"第一个数据样本：\\n\",x_train_image[0])   "
   ]
  },
  {
   "cell_type": "code",
   "execution_count": 3,
   "id": "e4c56031",
   "metadata": {},
   "outputs": [
    {
     "name": "stdout",
     "output_type": "stream",
     "text": [
      "第一个数据样本的标签： 5\n"
     ]
    }
   ],
   "source": [
    "print(\"第一个数据样本的标签：\",y_train_label[0])"
   ]
  },
  {
   "cell_type": "markdown",
   "id": "e047e4f5",
   "metadata": {},
   "source": [
    "## 紧接着，需要对这堆数据集进行一些操作"
   ]
  },
  {
   "cell_type": "code",
   "execution_count": 4,
   "id": "d28ffd51",
   "metadata": {},
   "outputs": [
    {
     "name": "stdout",
     "output_type": "stream",
     "text": [
      "训练集张量形状： (60000, 28, 28, 1)\n",
      "第一个数据标签： [0. 0. 0. 0. 0. 1. 0. 0. 0. 0.]\n"
     ]
    }
   ],
   "source": [
    "from tensorflow.keras.utils import to_categorical  # 导入One-hot编码工具\n",
    "x_train = x_train_image.reshape(60000, 28, 28, 1)  # 给标签增加一个维度\n",
    "x_test = x_test_image.reshape(10000, 28, 28, 1)  # 给标签增加一个维度\n",
    "y_train = to_categorical(y_train_label, 10)  # 特征转换为one-hot编码\n",
    "y_test = to_categorical(y_test_label, 10)  # 特征转换为one-hot编码\n",
    "print(\"训练集张量形状：\",x_train.shape)  # 训练集张量的形状\n",
    "print(\"第一个数据标签：\",y_train[0])  # 显示标签的第一个数据"
   ]
  },
  {
   "cell_type": "markdown",
   "id": "9e76f59f",
   "metadata": {},
   "source": [
    "## 我知道这部分可能第一次接触时有些难以理解，先什么都不要说，感受它，单纯的感受它就好"
   ]
  },
  {
   "cell_type": "code",
   "execution_count": 5,
   "id": "8b183310",
   "metadata": {},
   "outputs": [],
   "source": [
    "from keras import models\n",
    "from keras.layers import Dense, Dropout, Flatten, Conv2D, MaxPooling2D\n",
    "model = models.Sequential()  # 用序贯方式建立模型\n",
    "model.add(Conv2D(32, (3,3), activation='relu',  # 添加Conv2D层\n",
    "         input_shape=(28, 28, 1)))  # 指定输入数据样本张量的类型\n",
    "model.add(MaxPooling2D(pool_size=(2,2)))  # 添加MaxPolling2D层\n",
    "model.add(Conv2D(64, (3,3), activation='relu'))  # 添加Conv2D层\n",
    "model.add(MaxPooling2D(pool_size=(2,2)))  # 添加MaxPolling2D层\n",
    "model.add(Dropout(0.25))  # 添加Dropout层\n",
    "model.add(Flatten())  # 展平\n",
    "model.add(Dense(128, activation='relu'))  # 添加全连接层\n",
    "model.add(Dropout(0.5))  # 添加Dropout层\n",
    "model.add(Dense(10, activation='softmax'))  # Softmax分类激活，输出10维分类码\n",
    "# 编译模型\n",
    "model.compile(optimizer='rmsprop',   # 指定优化器\n",
    "             loss='categorical_crossentropy',   # z指定损失函数\n",
    "             metrics=['accuracy'])   # 指定验证过程中的评估指标"
   ]
  },
  {
   "cell_type": "code",
   "execution_count": 6,
   "id": "598e2838",
   "metadata": {},
   "outputs": [
    {
     "name": "stdout",
     "output_type": "stream",
     "text": [
      "Epoch 1/5\n",
      "329/329 [==============================] - 11s 31ms/step - loss: 1.1905 - accuracy: 0.8153 - val_loss: 0.1038 - val_accuracy: 0.9715\n",
      "Epoch 2/5\n",
      "329/329 [==============================] - 10s 31ms/step - loss: 0.1873 - accuracy: 0.9487 - val_loss: 0.0901 - val_accuracy: 0.9763\n",
      "Epoch 3/5\n",
      "329/329 [==============================] - 10s 30ms/step - loss: 0.1326 - accuracy: 0.9650 - val_loss: 0.0605 - val_accuracy: 0.9846\n",
      "Epoch 4/5\n",
      "329/329 [==============================] - 10s 30ms/step - loss: 0.1096 - accuracy: 0.9703 - val_loss: 0.0707 - val_accuracy: 0.9838\n",
      "Epoch 5/5\n",
      "329/329 [==============================] - 10s 30ms/step - loss: 0.0952 - accuracy: 0.9742 - val_loss: 0.0555 - val_accuracy: 0.9868\n"
     ]
    },
    {
     "data": {
      "text/plain": [
       "<keras.callbacks.History at 0x2ea5b138670>"
      ]
     },
     "execution_count": 6,
     "metadata": {},
     "output_type": "execute_result"
    }
   ],
   "source": [
    "model.fit(x_train, y_train,   # 指定训练特征集和训练标签集\n",
    "          validation_split=0.3,  # 部分训练集数据拆分成验证集\n",
    "         epochs=5,  # 训练轮次为5轮\n",
    "         batch_size=128)  # 以128为批量进行训练"
   ]
  },
  {
   "cell_type": "code",
   "execution_count": 7,
   "id": "65717fc4",
   "metadata": {},
   "outputs": [
    {
     "name": "stdout",
     "output_type": "stream",
     "text": [
      "313/313 [==============================] - 1s 3ms/step - loss: 0.0499 - accuracy: 0.9870\n",
      "测试集预测准确率： 0.9869999885559082\n"
     ]
    }
   ],
   "source": [
    "score = model.evaluate(x_test, y_test)  # 在验证集上进行模型评估\n",
    "print(\"测试集预测准确率：\", score[1])   # 输出测试集上的预测准确率"
   ]
  },
  {
   "cell_type": "markdown",
   "id": "c0976858",
   "metadata": {},
   "source": [
    "## 最后，便是利用好我们已经训练的模型，现在非常轻松的就能去识别手写的数字了！"
   ]
  },
  {
   "cell_type": "code",
   "execution_count": 8,
   "id": "249ade43",
   "metadata": {},
   "outputs": [
    {
     "name": "stdout",
     "output_type": "stream",
     "text": [
      "1/1 [==============================] - 0s 60ms/step\n",
      "[0. 0. 0. 0. 0. 0. 0. 1. 0. 0.] 转换一下格式得到： 7\n"
     ]
    },
    {
     "data": {
      "text/plain": [
       "<matplotlib.image.AxesImage at 0x2ea6400bf40>"
      ]
     },
     "execution_count": 8,
     "metadata": {},
     "output_type": "execute_result"
    },
    {
     "data": {
      "image/png": "[encoded data removed]",
      "text/plain": [
       "<Figure size 640x480 with 1 Axes>"
      ]
     },
     "metadata": {},
     "output_type": "display_data"
    }
   ],
   "source": [
    "pred = model.predict(x_test[0].reshape(1, 28, 28, 1))  # 预测测试集的第一个数据\n",
    "np.set_printoptions(suppress=True,   precision=5)  # 禁用科学计数法\n",
    "print(pred[0],\"转换一下格式得到：\",pred.argmax())  # 把one-hot编码转换为数字\n",
    "import matplotlib.pyplot as plt\n",
    "%matplotlib inline\n",
    "plt.imshow(x_test[0].reshape(28, 28), cmap='Greys')  # 输出这个图片"
   ]
  }
 ],
 "metadata": {
  "kernelspec": {
   "display_name": "Python 3 (ipykernel)",
   "language": "python",
   "name": "python3"
  },
  "language_info": {
   "codemirror_mode": {
    "name": "ipython",
    "version": 3
   },
   "file_extension": ".py",
   "mimetype": "text/x-python",
   "name": "python",
   "nbconvert_exporter": "python",
   "pygments_lexer": "ipython3",
   "version": "3.9.19"
  }
 },
 "nbformat": 4,
 "nbformat_minor": 5
}
