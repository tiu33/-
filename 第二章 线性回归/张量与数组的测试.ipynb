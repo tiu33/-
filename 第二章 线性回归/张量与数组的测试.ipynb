{
 "cells": [
  {
   "cell_type": "code",
   "execution_count": 1,
   "id": "31d3bf13",
   "metadata": {},
   "outputs": [],
   "source": [
    "import numpy as np\n",
    "import pandas as pd"
   ]
  },
  {
   "cell_type": "code",
   "execution_count": 2,
   "id": "4a6cf6c0",
   "metadata": {},
   "outputs": [
    {
     "data": {
      "text/plain": [
       "(1, 1)"
      ]
     },
     "execution_count": 2,
     "metadata": {},
     "output_type": "execute_result"
    }
   ],
   "source": [
    "a = np.array([[1]])\n",
    "a.shape"
   ]
  },
  {
   "cell_type": "markdown",
   "id": "ed0663ec",
   "metadata": {},
   "source": [
    "两个括号的有两个；在两个括号中，一个括号的有一个；在一个括号中，每个括号内有三个元素"
   ]
  },
  {
   "cell_type": "code",
   "execution_count": 3,
   "id": "2f0b85a2",
   "metadata": {},
   "outputs": [
    {
     "data": {
      "text/plain": [
       "(2, 1, 3)"
      ]
     },
     "execution_count": 3,
     "metadata": {},
     "output_type": "execute_result"
    }
   ],
   "source": [
    "b = np.array([[[3, 3, 3]], [[4, 4, 4]]])\n",
    "b.shape"
   ]
  },
  {
   "cell_type": "code",
   "execution_count": 4,
   "id": "28f28b98",
   "metadata": {},
   "outputs": [
    {
     "data": {
      "text/plain": [
       "(1,)"
      ]
     },
     "execution_count": 4,
     "metadata": {},
     "output_type": "execute_result"
    }
   ],
   "source": [
    "c = np.array([1])\n",
    "c.shape"
   ]
  },
  {
   "cell_type": "markdown",
   "id": "7ead19bd",
   "metadata": {},
   "source": [
    "零维数组：也称为标量，是一个单一的数值，例如 42 或 3.14，用 numpy.ndarray 类型表示时，其 shape 属性为一个空元组 ()。可以使用 item() 方法来获取该数值。\n",
    "\n",
    "★★★★：感觉零维数组不常用，索引方式就容易被人忽略..."
   ]
  },
  {
   "cell_type": "code",
   "execution_count": 5,
   "id": "df0a6528",
   "metadata": {},
   "outputs": [
    {
     "data": {
      "text/plain": [
       "()"
      ]
     },
     "execution_count": 5,
     "metadata": {},
     "output_type": "execute_result"
    }
   ],
   "source": [
    "d = np.array(1)\n",
    "d.shape"
   ]
  },
  {
   "cell_type": "code",
   "execution_count": 6,
   "id": "c8358a9a",
   "metadata": {},
   "outputs": [
    {
     "data": {
      "text/plain": [
       "(2, 2)"
      ]
     },
     "execution_count": 6,
     "metadata": {},
     "output_type": "execute_result"
    }
   ],
   "source": [
    "e = np.array([[2, 2], [2, 2]])\n",
    "e.shape"
   ]
  }
 ],
 "metadata": {
  "kernelspec": {
   "display_name": "Python 3 (ipykernel)",
   "language": "python",
   "name": "python3"
  },
  "language_info": {
   "codemirror_mode": {
    "name": "ipython",
    "version": 3
   },
   "file_extension": ".py",
   "mimetype": "text/x-python",
   "name": "python",
   "nbconvert_exporter": "python",
   "pygments_lexer": "ipython3",
   "version": "3.9.19"
  }
 },
 "nbformat": 4,
 "nbformat_minor": 5
}
