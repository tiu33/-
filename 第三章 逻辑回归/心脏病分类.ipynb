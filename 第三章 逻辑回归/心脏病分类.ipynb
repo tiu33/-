{
 "cells": [
  {
   "cell_type": "markdown",
   "id": "2d6b61c0",
   "metadata": {},
   "source": [
    "# 导入数据和库"
   ]
  },
  {
   "cell_type": "code",
   "execution_count": 1,
   "id": "f5b4c64c",
   "metadata": {},
   "outputs": [
    {
     "data": {
      "text/html": [
       "<div>\n",
       "<style scoped>\n",
       "    .dataframe tbody tr th:only-of-type {\n",
       "        vertical-align: middle;\n",
       "    }\n",
       "\n",
       "    .dataframe tbody tr th {\n",
       "        vertical-align: top;\n",
       "    }\n",
       "\n",
       "    .dataframe thead th {\n",
       "        text-align: right;\n",
       "    }\n",
       "</style>\n",
       "<table border=\"1\" class=\"dataframe\">\n",
       "  <thead>\n",
       "    <tr style=\"text-align: right;\">\n",
       "      <th></th>\n",
       "      <th>age</th>\n",
       "      <th>sex</th>\n",
       "      <th>cp</th>\n",
       "      <th>trestbps</th>\n",
       "      <th>chol</th>\n",
       "      <th>fbs</th>\n",
       "      <th>restecg</th>\n",
       "      <th>thalach</th>\n",
       "      <th>exang</th>\n",
       "      <th>oldpeak</th>\n",
       "      <th>slope</th>\n",
       "      <th>ca</th>\n",
       "      <th>thal</th>\n",
       "      <th>target</th>\n",
       "    </tr>\n",
       "  </thead>\n",
       "  <tbody>\n",
       "    <tr>\n",
       "      <th>0</th>\n",
       "      <td>63</td>\n",
       "      <td>1</td>\n",
       "      <td>3</td>\n",
       "      <td>145</td>\n",
       "      <td>233</td>\n",
       "      <td>1</td>\n",
       "      <td>0</td>\n",
       "      <td>150</td>\n",
       "      <td>0</td>\n",
       "      <td>2.3</td>\n",
       "      <td>0</td>\n",
       "      <td>0</td>\n",
       "      <td>1</td>\n",
       "      <td>1</td>\n",
       "    </tr>\n",
       "    <tr>\n",
       "      <th>1</th>\n",
       "      <td>37</td>\n",
       "      <td>1</td>\n",
       "      <td>2</td>\n",
       "      <td>130</td>\n",
       "      <td>250</td>\n",
       "      <td>0</td>\n",
       "      <td>1</td>\n",
       "      <td>187</td>\n",
       "      <td>0</td>\n",
       "      <td>3.5</td>\n",
       "      <td>0</td>\n",
       "      <td>0</td>\n",
       "      <td>2</td>\n",
       "      <td>1</td>\n",
       "    </tr>\n",
       "    <tr>\n",
       "      <th>2</th>\n",
       "      <td>41</td>\n",
       "      <td>0</td>\n",
       "      <td>1</td>\n",
       "      <td>130</td>\n",
       "      <td>204</td>\n",
       "      <td>0</td>\n",
       "      <td>0</td>\n",
       "      <td>172</td>\n",
       "      <td>0</td>\n",
       "      <td>1.4</td>\n",
       "      <td>2</td>\n",
       "      <td>0</td>\n",
       "      <td>2</td>\n",
       "      <td>1</td>\n",
       "    </tr>\n",
       "    <tr>\n",
       "      <th>3</th>\n",
       "      <td>56</td>\n",
       "      <td>1</td>\n",
       "      <td>1</td>\n",
       "      <td>120</td>\n",
       "      <td>236</td>\n",
       "      <td>0</td>\n",
       "      <td>1</td>\n",
       "      <td>178</td>\n",
       "      <td>0</td>\n",
       "      <td>0.8</td>\n",
       "      <td>2</td>\n",
       "      <td>0</td>\n",
       "      <td>2</td>\n",
       "      <td>1</td>\n",
       "    </tr>\n",
       "    <tr>\n",
       "      <th>4</th>\n",
       "      <td>57</td>\n",
       "      <td>0</td>\n",
       "      <td>0</td>\n",
       "      <td>120</td>\n",
       "      <td>354</td>\n",
       "      <td>0</td>\n",
       "      <td>1</td>\n",
       "      <td>163</td>\n",
       "      <td>1</td>\n",
       "      <td>0.6</td>\n",
       "      <td>2</td>\n",
       "      <td>0</td>\n",
       "      <td>2</td>\n",
       "      <td>1</td>\n",
       "    </tr>\n",
       "  </tbody>\n",
       "</table>\n",
       "</div>"
      ],
      "text/plain": [
       "   age  sex  cp  trestbps  chol  fbs  restecg  thalach  exang  oldpeak  slope  \\\n",
       "0   63    1   3       145   233    1        0      150      0      2.3      0   \n",
       "1   37    1   2       130   250    0        1      187      0      3.5      0   \n",
       "2   41    0   1       130   204    0        0      172      0      1.4      2   \n",
       "3   56    1   1       120   236    0        1      178      0      0.8      2   \n",
       "4   57    0   0       120   354    0        1      163      1      0.6      2   \n",
       "\n",
       "   ca  thal  target  \n",
       "0   0     1       1  \n",
       "1   0     2       1  \n",
       "2   0     2       1  \n",
       "3   0     2       1  \n",
       "4   0     2       1  "
      ]
     },
     "execution_count": 1,
     "metadata": {},
     "output_type": "execute_result"
    }
   ],
   "source": [
    "import numpy as np\n",
    "import pandas as pd\n",
    "df_heart = pd.read_csv(\"heart.csv\")\n",
    "df_heart.head()    # 读取前五行"
   ]
  },
  {
   "cell_type": "code",
   "execution_count": 2,
   "id": "4f7d0cab",
   "metadata": {},
   "outputs": [
    {
     "data": {
      "text/plain": [
       "target\n",
       "1    165\n",
       "0    138\n",
       "Name: count, dtype: int64"
      ]
     },
     "execution_count": 2,
     "metadata": {},
     "output_type": "execute_result"
    }
   ],
   "source": [
    "df_heart.target.value_counts()    # 输出分类值以及各个类别数目"
   ]
  },
  {
   "cell_type": "markdown",
   "id": "3810105b",
   "metadata": {},
   "source": [
    "# 展示数据状况"
   ]
  },
  {
   "cell_type": "code",
   "execution_count": 3,
   "id": "39ad2315",
   "metadata": {},
   "outputs": [
    {
     "data": {
      "image/png": "[encoded data removed]",
      "text/plain": [
       "<Figure size 640x480 with 1 Axes>"
      ]
     },
     "metadata": {},
     "output_type": "display_data"
    }
   ],
   "source": [
    "import matplotlib.pyplot as plt\n",
    "plt.scatter(x=df_heart.age[df_heart.target==1], y=df_heart.thalach[df_heart.target==1], c=\"red\")\n",
    "plt.scatter(x=df_heart.age[df_heart.target==0], y=df_heart.thalach[df_heart.target==0], marker=\"^\")\n",
    "plt.legend([\"Disease\",\"No Disease\"])\n",
    "plt.xlabel(\"Age\")\n",
    "plt.ylabel(\"Heart Rate\")\n",
    "plt.show()"
   ]
  },
  {
   "cell_type": "code",
   "execution_count": 4,
   "id": "c64a3de1",
   "metadata": {},
   "outputs": [
    {
     "name": "stdout",
     "output_type": "stream",
     "text": [
      "张量x的形状： (303, 13)\n",
      "张量y的形状： (303, 1)\n"
     ]
    }
   ],
   "source": [
    "x = df_heart.drop(['target'], axis = 1)\n",
    "y = df_heart.target.values    # 此时y为（303，）\n",
    "y = y.reshape(len(y),1)\n",
    "print(\"张量x的形状：\", x.shape)\n",
    "print(\"张量y的形状：\", y.shape)"
   ]
  },
  {
   "cell_type": "markdown",
   "id": "65b17173",
   "metadata": {},
   "source": [
    "# 构建逻辑回归模型"
   ]
  },
  {
   "cell_type": "markdown",
   "id": "ccaf95f9",
   "metadata": {},
   "source": [
    "## 划分数据集，并设定随机数种子为1"
   ]
  },
  {
   "cell_type": "code",
   "execution_count": 5,
   "id": "96859143",
   "metadata": {},
   "outputs": [],
   "source": [
    "from sklearn.model_selection import train_test_split\n",
    "x_train, x_test, y_train, y_test = train_test_split(x, y, test_size = 0.2, random_state = 1)"
   ]
  },
  {
   "cell_type": "code",
   "execution_count": 6,
   "id": "f05bcca9",
   "metadata": {},
   "outputs": [],
   "source": [
    "from sklearn.preprocessing import MinMaxScaler\n",
    "scaler = MinMaxScaler()\n",
    "x_train = scaler.fit_transform(x_train)    # 此时对于训练集来说不能有测试集的特征，因此要先拟合再转换归一化\n",
    "x_test = scaler.transform(x_test)"
   ]
  },
  {
   "cell_type": "code",
   "execution_count": 7,
   "id": "75acd3f5",
   "metadata": {},
   "outputs": [],
   "source": [
    "# 定义sigmoid函数，输入z，返回y'\n",
    "def sigmoid(z):\n",
    "    y_hat = 1/(1 + np.exp(-z))\n",
    "    return y_hat"
   ]
  },
  {
   "cell_type": "code",
   "execution_count": 8,
   "id": "0d4a5f8f",
   "metadata": {},
   "outputs": [],
   "source": [
    "# 定义损失函数\n",
    "def loss_function(x, y, w, b):\n",
    "    y_hat = sigmoid(np.dot(x, w) + b)    # sigmoid逻辑函数 + 线性函数(wx+b)得到y'\n",
    "    loss = -((y*np.log(y_hat) + (1 - y) * np.log(1 - y_hat)))    # 计算损失\n",
    "    cost = np.sum(loss) / x.shape[0]    # 整个数据集的平均损失\n",
    "    return cost    # 返回整个数据集的平均损失"
   ]
  },
  {
   "cell_type": "code",
   "execution_count": 9,
   "id": "1ec87467",
   "metadata": {},
   "outputs": [],
   "source": [
    "# 定义梯度下降的函数\n",
    "def gradient_descent(x, y, w, b, lr, iteration):\n",
    "    l_history = np.zeros(iteration)    # 记录梯度下降过程中中损失的数组\n",
    "    w_history = np.zeros((iteration, w.shape[0], w.shape[1]))    # 记录梯度下降过程中权重的数组\n",
    "    b_history = np.zeros(iteration)    # 记录梯度下降过程中偏置的数组\n",
    "    for i in range(iteration):     # 进行机器训练迭代\n",
    "        y_hat = sigmoid(np.dot(x, w) + b)\n",
    "        derivative_w = np.dot(x.T, (y_hat-y)) / x.shape[0]    # 给权重向量求导\n",
    "        derivative_b = np.sum(y_hat-y)/x.shape[0]    # 给偏置求导\n",
    "        w = w - lr * derivative_w    # 更新权重向量\n",
    "        b = b - lr * derivative_b    # 更新偏置\n",
    "        l_history[i] = loss_function(x, y, w, b)    # 梯度下降中的损失\n",
    "        # print(\"轮次\", i+1, \"当前轮训练损失：\", l_history[i])\n",
    "        w_history[i] = w    # 梯度下降中权重的记录\n",
    "        b_history[i] = b    # 梯度下降中偏置的记录\n",
    "    return l_history, w_history, b_history"
   ]
  },
  {
   "cell_type": "code",
   "execution_count": 10,
   "id": "541a2aed",
   "metadata": {},
   "outputs": [],
   "source": [
    "# 定义预测函数\n",
    "def predict(x, w, b):\n",
    "    z = np.dot(x, w)    # 线性函数\n",
    "    y_hat = sigmoid(z)    # 逻辑函数转换\n",
    "    y_pred = np.zeros((y_hat.shape[0], 1))    # 初始化预测结果变量\n",
    "    for i in range(y_hat.shape[0]):\n",
    "        if y_hat[i, 0] < 0.5:\n",
    "            y_pred[i, 0] = 0    # 如果预测概率小于0.5，输出分类0\n",
    "        else:\n",
    "            y_pred[i, 0] = 1    # 如果预测概率大于0.5，输出分类1\n",
    "    return y_pred"
   ]
  },
  {
   "cell_type": "code",
   "execution_count": 11,
   "id": "1a9ed3c9",
   "metadata": {},
   "outputs": [],
   "source": [
    "# 定义逻辑回归模型\n",
    "def logistic_regression(x, y, w, b, lr, iterations):\n",
    "    l_history, w_history, b_history = gradient_descent(x, y, w, b, lr, iterations)    # 梯度下降\n",
    "    print(\"训练最终损失：\", l_history[-1])    # 输出最终损失\n",
    "    y_pred = predict(x, w_history[-1], b_history[-1])    # 进行预测\n",
    "    training_acc = 100 - np.mean(np.abs(y_pred - y_train)) * 100    # 计算准确率\n",
    "    print(\"逻辑回归训练准确率：{:.2f}%\".format(training_acc))\n",
    "    return l_history, w_history, b_history"
   ]
  },
  {
   "cell_type": "code",
   "execution_count": 12,
   "id": "67a5ea78",
   "metadata": {},
   "outputs": [],
   "source": [
    "# 初始化参数\n",
    "dimension = x.shape[1]    # len(x)是矩阵的行数目， 维度是列的数目\n",
    "weight = np.full((dimension, 1), 0.1)    # 权重向量\n",
    "bias = 0     # 偏置值\n",
    "alpha = 1    # 学习速率\n",
    "iterations = 1000    # 迭代次数"
   ]
  },
  {
   "cell_type": "code",
   "execution_count": 13,
   "id": "77bbedfe",
   "metadata": {},
   "outputs": [
    {
     "name": "stdout",
     "output_type": "stream",
     "text": [
      "训练最终损失： 0.31577761629463164\n",
      "逻辑回归训练准确率：77.27%\n"
     ]
    }
   ],
   "source": [
    "# 用逻辑回归训练机器\n",
    "loss_history ,weight_history, bias_history = logistic_regression(x_train, y_train, weight ,bias, alpha, iterations)"
   ]
  },
  {
   "cell_type": "code",
   "execution_count": 14,
   "id": "a6d72d13",
   "metadata": {},
   "outputs": [
    {
     "name": "stdout",
     "output_type": "stream",
     "text": [
      "逻辑回归测试准确率：68.85%\n"
     ]
    }
   ],
   "source": [
    "y_pred = predict(x_test, weight_history[-1], bias_history[-1])    # 预测测试集\n",
    "testing_acc = 100 - np.mean(np.abs(y_pred - y_test))*100    # 计算准确率\n",
    "print(\"逻辑回归测试准确率：{:.2f}%\".format(testing_acc))"
   ]
  },
  {
   "cell_type": "markdown",
   "id": "31727fd9",
   "metadata": {},
   "source": [
    "# 验证模型"
   ]
  },
  {
   "cell_type": "code",
   "execution_count": 15,
   "id": "fe2d3bc8",
   "metadata": {},
   "outputs": [],
   "source": [
    "%matplotlib inline    \n",
    "# matplotlib魔术指令，显示内嵌图像\n",
    "plt.rcParams[\"font.sans-serif\"] = [\"SimHei\"] #解决中文字符乱码的问题\n",
    "plt.rcParams[\"axes.unicode_minus\"] = False #正常显示负号"
   ]
  },
  {
   "cell_type": "code",
   "execution_count": 16,
   "id": "cf9cc15f",
   "metadata": {},
   "outputs": [
    {
     "data": {
      "image/png": "[encoded data removed]",
      "text/plain": [
       "<Figure size 640x480 with 1 Axes>"
      ]
     },
     "metadata": {},
     "output_type": "display_data"
    }
   ],
   "source": [
    "# 绘制损失曲线\n",
    "loss_history_test = np.zeros(iterations)    # 初始化历史损失\n",
    "for i in range(iterations):\n",
    "    loss_history_test[i] = loss_function(x_test, y_test, weight_history[i], bias_history[i])\n",
    "index = np.arange(0, iterations, 1)\n",
    "plt.plot(index, loss_history, c='blue', linestyle='solid')\n",
    "plt.plot(index, loss_history_test, c='red', linestyle='dashed')\n",
    "plt.legend([\"训练集损失\", \"测试集损失\"])\n",
    "plt.xlabel(\"迭代次数\")\n",
    "plt.ylabel(\"成本\")\n",
    "plt.show()"
   ]
  },
  {
   "cell_type": "markdown",
   "id": "b2175a39",
   "metadata": {},
   "source": [
    "# 结论"
   ]
  },
  {
   "cell_type": "markdown",
   "id": "8a26c6ea",
   "metadata": {},
   "source": [
    "在自己构建的逻辑回归模型中，不采用哑变量，最后获得的训练准确率：77.27%，测试准确率：68.85%"
   ]
  },
  {
   "cell_type": "code",
   "execution_count": null,
   "id": "8e94a2b1",
   "metadata": {},
   "outputs": [],
   "source": []
  }
 ],
 "metadata": {
  "kernelspec": {
   "display_name": "Python 3 (ipykernel)",
   "language": "python",
   "name": "python3"
  },
  "language_info": {
   "codemirror_mode": {
    "name": "ipython",
    "version": 3
   },
   "file_extension": ".py",
   "mimetype": "text/x-python",
   "name": "python",
   "nbconvert_exporter": "python",
   "pygments_lexer": "ipython3",
   "version": "3.9.0"
  }
 },
 "nbformat": 4,
 "nbformat_minor": 5
}
